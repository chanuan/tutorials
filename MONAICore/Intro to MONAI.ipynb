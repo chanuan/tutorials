{
  "cells": [
    {
      "cell_type": "markdown",
      "id": "conscious-latitude",
      "metadata": {
        "id": "conscious-latitude"
      },
      "source": [
        "<center><img src=\"https://github.com/Project-MONAI/monai-bootcamp/blob/main/MONAICore/monai.png?raw=1\"/></center>\n",
        "\n",
        "<p style=\"text-align: center\">Welcome to the MONAI bootcamp!</p>\n",
        "<p style=\"text-align: center\">This notebook will introduce you to the MONAI Core design and architecture.  You'll get some hands-on examples with transforms, dataset loaders, caching, and network.</p>"
      ]
    },
    {
      "cell_type": "markdown",
      "id": "wicked-latin",
      "metadata": {
        "id": "wicked-latin"
      },
      "source": [
        "### Using Google Colab\n",
        "\n",
        "This notebook has the pip command for installing MONAI and will be added to any subsequent notebook.\n",
        "\n",
        "**Enabling GPU Support**\n",
        "\n",
        "To use GPU resources through Colab, change the runtime to GPU:\n",
        "\n",
        "1. From the **\"Runtime\"** menu select **\"Change Runtime Type\"**\n",
        "2. Choose **\"GPU\"** from the drop-down menu\n",
        "3. Click **\"SAVE\"**\n",
        "\n",
        "This will reset the notebook and probably ask you if you are a robot (these instructions assume you are not)\n",
        "\n"
      ]
    },
    {
      "cell_type": "markdown",
      "id": "comprehensive-witness",
      "metadata": {
        "id": "comprehensive-witness"
      },
      "source": [
        "### Verify GPU Access\n",
        "\n",
        "Running **!nvidia-smi** in a cell will verify this has worked and show you what kind of hardware you have access to.    "
      ]
    },
    {
      "cell_type": "code",
      "execution_count": 1,
      "id": "pediatric-colleague",
      "metadata": {
        "id": "pediatric-colleague",
        "outputId": "67a8cea7-db8e-415d-9cd8-84b41a9ec041",
        "colab": {
          "base_uri": "https://localhost:8080/"
        }
      },
      "outputs": [
        {
          "output_type": "stream",
          "name": "stdout",
          "text": [
            "Traceback (most recent call last):\n",
            "  File \"<string>\", line 1, in <module>\n",
            "ModuleNotFoundError: No module named 'monai'\n",
            "\u001b[2K   \u001b[90m━━━━━━━━━━━━━━━━━━━━━━━━━━━━━━━━━━━━━━━━\u001b[0m \u001b[32m1.3/1.3 MB\u001b[0m \u001b[31m24.0 MB/s\u001b[0m eta \u001b[36m0:00:00\u001b[0m\n",
            "\u001b[2K   \u001b[90m━━━━━━━━━━━━━━━━━━━━━━━━━━━━━━━━━━━━━━━━\u001b[0m \u001b[32m266.5/266.5 kB\u001b[0m \u001b[31m18.7 MB/s\u001b[0m eta \u001b[36m0:00:00\u001b[0m\n",
            "\u001b[?25h"
          ]
        }
      ],
      "source": [
        "!python -c \"import monai\" || pip install -qU \"monai[ignite, nibabel, torchvision, tqdm]==1.2.0\""
      ]
    },
    {
      "cell_type": "markdown",
      "id": "bibliographic-feedback",
      "metadata": {
        "id": "bibliographic-feedback"
      },
      "source": [
        "### Required Packages for Colab Execution\n",
        "\n",
        "Execute the following cell to install MONAI the first time a colab notebook is run:"
      ]
    },
    {
      "cell_type": "code",
      "execution_count": 2,
      "id": "danish-garage",
      "metadata": {
        "id": "danish-garage",
        "outputId": "d1905c44-5204-460c-8e5a-7edf4741ad1c",
        "colab": {
          "base_uri": "https://localhost:8080/"
        }
      },
      "outputs": [
        {
          "output_type": "stream",
          "name": "stdout",
          "text": [
            "Wed Nov  6 08:49:56 2024       \n",
            "+---------------------------------------------------------------------------------------+\n",
            "| NVIDIA-SMI 535.104.05             Driver Version: 535.104.05   CUDA Version: 12.2     |\n",
            "|-----------------------------------------+----------------------+----------------------+\n",
            "| GPU  Name                 Persistence-M | Bus-Id        Disp.A | Volatile Uncorr. ECC |\n",
            "| Fan  Temp   Perf          Pwr:Usage/Cap |         Memory-Usage | GPU-Util  Compute M. |\n",
            "|                                         |                      |               MIG M. |\n",
            "|=========================================+======================+======================|\n",
            "|   0  Tesla T4                       Off | 00000000:00:04.0 Off |                    0 |\n",
            "| N/A   64C    P8              10W /  70W |      0MiB / 15360MiB |      0%      Default |\n",
            "|                                         |                      |                  N/A |\n",
            "+-----------------------------------------+----------------------+----------------------+\n",
            "                                                                                         \n",
            "+---------------------------------------------------------------------------------------+\n",
            "| Processes:                                                                            |\n",
            "|  GPU   GI   CI        PID   Type   Process name                            GPU Memory |\n",
            "|        ID   ID                                                             Usage      |\n",
            "|=======================================================================================|\n",
            "|  No running processes found                                                           |\n",
            "+---------------------------------------------------------------------------------------+\n"
          ]
        }
      ],
      "source": [
        "!nvidia-smi"
      ]
    },
    {
      "cell_type": "markdown",
      "id": "sustained-qualification",
      "metadata": {
        "id": "sustained-qualification"
      },
      "source": [
        "## Getting Started with MONAI\n",
        "\n",
        "MONAI is a PyTorch-based, open-source framework for deep learning in healthcare imaging, part of the PyTorch Ecosystem.\n",
        "\n",
        "*Its ambitions are:*\n",
        "\n",
        "- to develop a community of academic, industrial and clinical researchers collaborating on a common foundation\n",
        "- to create state-of-the-art, end-to-end training workflows for healthcare imaging\n",
        "- to provide researchers with the optimized and standardized way to create and evaluate deep learning models"
      ]
    },
    {
      "cell_type": "markdown",
      "id": "residential-addition",
      "metadata": {
        "id": "residential-addition"
      },
      "source": [
        "### MONAI End to End workflow\n",
        "\n",
        "MONAI aims to support deep learning in medical image analysis at multiple levels. This figure shows a typical example of an end-to-end workflow in a medical deep learning context:\n",
        "\n",
        "<center><img src=\"https://github.com/Project-MONAI/monai-bootcamp/blob/main/MONAICore/end_to_end.png?raw=1\" style=\"width: 1400px;\"/></center>"
      ]
    },
    {
      "cell_type": "markdown",
      "id": "aggressive-observer",
      "metadata": {
        "id": "aggressive-observer"
      },
      "source": [
        "### What's the Need?\n",
        "\n",
        "* Biomedical applications have specific requirements\n",
        "* Image modalities (MR, CT, US, etc.) require specific data processing functionality\n",
        "* Data formats (DICOM, NIfTI, etc.) are specific to medical applications and require specific support\n",
        "* Certain network architectures are designed for, or are highly suitable for, biomedical applications\n",
        "* Data transforms specific to biomedical applications, and to image modalities, are very useful when pre-processing data, augmenting data during training, and for post-processing\n",
        "* Reproducible science requires reproducible experiments which in turn rely on software accessible to other scientists, even if just as a common baseline\n",
        "* A community-driven library to provide solutions to these requirements reduces duplication/re-implementation\n",
        "* Baseline implementations of common networks, and implementations of networks specific to certain papers, provides a basis for comparison between others' networks and results"
      ]
    },
    {
      "cell_type": "markdown",
      "id": "dynamic-environment",
      "metadata": {
        "id": "dynamic-environment"
      },
      "source": [
        "### How Does MONAI Address This Need?\n",
        "\n",
        "MONAI provides a framework of deep learning functionality and infrastructure to meet these needs in a flexible, PyTorch-compatible way:\n",
        "* Direct support for loading and manipulating biomedical file types\n",
        "* Biomedical-data-specific transforms for regularisation and augmentation of biomedical imaging data for training, validation, and deployment\n",
        "* Library of general-purpose network, metric, and loss function definitions implementing both established and cutting-edge architectures and features\n",
        "* Set of ready-made components for training and inference to utilize computing infrastructure efficiently\n",
        "\n"
      ]
    },
    {
      "cell_type": "markdown",
      "id": "be00b37a",
      "metadata": {
        "id": "be00b37a"
      },
      "source": [
        "#### Enhancing Reproducible Data Science\n",
        "\n",
        "MONAI contributes to reproducible data science by making the training and distribution of experiments easier:\n",
        "* Common underlying framework aids in comparison and interoperability across user's implementations\n",
        "* Users can pick and choose components and existing networks, then contribute new code to make their results available to others\n",
        "* Reference implementations of networks from papers provide baselines for replication studies and comparisons"
      ]
    },
    {
      "cell_type": "markdown",
      "id": "taken-catalog",
      "metadata": {
        "id": "taken-catalog"
      },
      "source": [
        "### MONAI Architecture\n",
        "By explicit design principle, MONAI provides flexible and light APIs for users with varying expertise:\n",
        "* All the core components are independent modules, easily integrated into existing PyTorch programs\n",
        "* Leverage MONAI workflows to quickly set up a robust training or evaluation program for research experiments.\n",
        "* Rich examples and demos are provided to demonstrate the key features.\n",
        "* Researchers contribute implementations based on the state-of-the-art for the latest research challenges, including:\n",
        "  * COVID-19 image analysis\n",
        "  * Dataset caching mechanisms\n",
        "  * Model Parallel execution modes\n",
        "  * and more...\n"
      ]
    },
    {
      "cell_type": "markdown",
      "id": "opposite-bundle",
      "metadata": {
        "id": "opposite-bundle"
      },
      "source": [
        "### MONAI Architecture\n",
        "\n",
        "<br>\n",
        "<center><img src=\"https://github.com/Project-MONAI/monai-bootcamp/blob/main/MONAICore/arch_modules_v0.4.png?raw=1\" style=\"width: 1000px;\"/></center>"
      ]
    },
    {
      "cell_type": "markdown",
      "id": "tamil-liquid",
      "metadata": {
        "id": "tamil-liquid"
      },
      "source": [
        "## MONAI Design Philosophy\n",
        "\n",
        "Key principles:\n",
        "* MONAI looks like PyTorch, uses/extends PyTorch types and adheres to it's general design philosophy\n",
        "* MONAI is additive on top of PyTorch, providing extensions or wrappers\n",
        "* MONAI is opt-in and incremental, no need to rewrite entire models to integrate existing code\n",
        "* MONAI is collaborative, providing adapters and loosely coupled components to ease integration with third party code\n",
        "* MONAI is PyTorch ecosystem friendly, and part of the official ecosystem!"
      ]
    },
    {
      "cell_type": "markdown",
      "id": "criminal-income",
      "metadata": {
        "id": "criminal-income"
      },
      "source": [
        "## Learning Objectives\n",
        "\n",
        "To help you understand more about MONAI transforms, dataset caching, and network architectures this guide will help you answer six key questions:\n",
        "\n",
        "1. **What transforms are available to help create a data pipeline for training?**\n",
        "2. **What is required to write a custom transform?**\n",
        "3. **How do I create a basic MONAI dataset with transforms?**\n",
        "4. **What is a MONAI Dataset and how does dataset caching work?**\n",
        "5. **What common datasets are provided by MONAI?**\n",
        "6. **What Network and Network components does MONAI provide and how do you use these components to create a network?**"
      ]
    },
    {
      "cell_type": "markdown",
      "id": "turkish-interface",
      "metadata": {
        "id": "turkish-interface"
      },
      "source": [
        "### Imports\n",
        "\n",
        "Let's get started by importing our dependecies:\n",
        "* We're going to load everything that we'll need for the remainder of the notebook here\n",
        "* You'll see a lot of import statements, but we'll make sure to go over each of them throughout the rest of the notebook."
      ]
    },
    {
      "cell_type": "markdown",
      "id": "0baac9f4",
      "metadata": {
        "id": "0baac9f4"
      },
      "source": [
        "### Imports"
      ]
    },
    {
      "cell_type": "code",
      "execution_count": 3,
      "id": "specialized-tunisia",
      "metadata": {
        "id": "specialized-tunisia",
        "outputId": "1f600b69-c592-4b5a-c94b-f754ce6dba73",
        "colab": {
          "base_uri": "https://localhost:8080/"
        }
      },
      "outputs": [
        {
          "output_type": "stream",
          "name": "stderr",
          "text": [
            "/usr/local/lib/python3.10/dist-packages/ignite/handlers/checkpoint.py:17: DeprecationWarning: `TorchScript` support for functional optimizers is deprecated and will be removed in a future PyTorch release. Consider using the `torch.compile` optimizer instead.\n",
            "  from torch.distributed.optim import ZeroRedundancyOptimizer\n"
          ]
        }
      ],
      "source": [
        "import tempfile\n",
        "import nibabel as nib\n",
        "import numpy as np\n",
        "import matplotlib.pyplot as plt\n",
        "from typing import Optional, Any, Mapping, Hashable\n",
        "import time\n",
        "import torch\n",
        "\n",
        "import monai\n",
        "from monai.config import print_config\n",
        "from monai.utils import first\n",
        "from monai.config import KeysCollection\n",
        "\n",
        "from monai.data import (Dataset, ArrayDataset, create_test_image_3d, DataLoader, DataLoader,\n",
        "CacheDataset, PersistentDataset, SmartCacheDataset)\n",
        "\n",
        "from monai.transforms import (Transform, MapTransform, Randomizable, EnsureChannelFirst, EnsureChannelFirstd,\n",
        "Compose, LoadImage, LoadImaged, Lambda, Lambdad, RandSpatialCrop, RandSpatialCropd, RandGaussianNoise,\n",
        "RandGaussianNoised, Orientation, Rotate, MapTransform)\n",
        "\n",
        "from monai.apps import DecathlonDataset, TciaDataset\n",
        "from monai.apps.tcia import TCIA_LABEL_DICT"
      ]
    },
    {
      "cell_type": "markdown",
      "id": "surgical-capture",
      "metadata": {
        "id": "surgical-capture"
      },
      "source": [
        "### Verify your Configuration\n",
        "\n",
        "Before getting started, it can be helpful to verify your environment setup and make sure all of the dependecies you need are installed. MONAI provides a handy utility to make it easy with `print_config()`"
      ]
    },
    {
      "cell_type": "code",
      "execution_count": 4,
      "id": "ranging-saint",
      "metadata": {
        "id": "ranging-saint",
        "outputId": "579fefdd-3290-42f8-f23c-92e8e1032922",
        "colab": {
          "base_uri": "https://localhost:8080/"
        }
      },
      "outputs": [
        {
          "output_type": "stream",
          "name": "stdout",
          "text": [
            "MONAI version: 1.2.0\n",
            "Numpy version: 1.26.4\n",
            "Pytorch version: 2.5.0+cu121\n",
            "MONAI flags: HAS_EXT = False, USE_COMPILED = False, USE_META_DICT = False\n",
            "MONAI rev id: c33f1ba588ee00229a309000e888f9817b4f1934\n",
            "MONAI __file__: /usr/local/lib/python3.10/dist-packages/monai/__init__.py\n",
            "\n",
            "Optional dependencies:\n",
            "Pytorch Ignite version: 0.4.11\n",
            "ITK version: NOT INSTALLED or UNKNOWN VERSION.\n",
            "Nibabel version: 5.3.2\n",
            "scikit-image version: 0.24.0\n",
            "Pillow version: 10.4.0\n",
            "Tensorboard version: 2.17.0\n",
            "gdown version: 5.2.0\n",
            "TorchVision version: 0.20.0+cu121\n",
            "tqdm version: 4.66.6\n",
            "lmdb version: NOT INSTALLED or UNKNOWN VERSION.\n",
            "psutil version: 5.9.5\n",
            "pandas version: 2.2.2\n",
            "einops version: 0.8.0\n",
            "transformers version: 4.44.2\n",
            "mlflow version: NOT INSTALLED or UNKNOWN VERSION.\n",
            "pynrrd version: NOT INSTALLED or UNKNOWN VERSION.\n",
            "\n",
            "For details about installing the optional dependencies, please visit:\n",
            "    https://docs.monai.io/en/latest/installation.html#installing-the-recommended-dependencies\n",
            "\n"
          ]
        }
      ],
      "source": [
        "print_config()"
      ]
    },
    {
      "cell_type": "markdown",
      "id": "encouraging-tract",
      "metadata": {
        "id": "encouraging-tract"
      },
      "source": [
        "### 1. What transforms are available to help create a data pipeline for training?\n",
        "\n",
        "\n",
        "#### Medical Image Data I/O, Processing and Augmentation\n",
        "\n",
        "Medical images require highly specialized methods for I/O, preprocessing, and augmentation. Medical images are often in specialized formats with rich meta-information, and the data volumes are often high-dimensional. These require carefully designed manipulation procedures. The medical imaging focus of MONAI is enabled by powerful and flexible image transformations that facilitate user-friendly, reproducible, optimized medical data pre-processing pipelines.\n",
        "\n",
        "<img src=\"https://github.com/Project-MONAI/monai-bootcamp/blob/main/MONAICore/medical_transforms.png?raw=1\" />"
      ]
    },
    {
      "cell_type": "markdown",
      "id": "falling-paste",
      "metadata": {
        "id": "falling-paste"
      },
      "source": [
        "#### Transforms Support both Dictionary and Array Format Data\n",
        "\n",
        "The widely used computer vision packages (such as torchvision) focus on spatially 2D array image processing. MONAI provides more domain-specific transformations for both spatially 2D and 3D and retains the flexible transformation “compose” feature.\n",
        "\n",
        "As medical image preprocessing often requires additional fine-grained system parameters, MONAI provides transforms for input data encapsulated in python dictionaries. Users can specify the keys corresponding to the expected data fields and system parameters to compose complex transformations.\n",
        "\n",
        "There is a rich set of transforms in six categories: Crop & Pad, Intensity, IO, Post-processing, Spatial, and Utilities. For more details, please visit all the transforms in MONAI."
      ]
    },
    {
      "cell_type": "markdown",
      "id": "progressive-duration",
      "metadata": {
        "id": "progressive-duration"
      },
      "source": [
        "#### Medical Specific Transforms\n",
        "MONAI aims at providing a comprehensive medical image specific transformations. These currently include, for example:\n",
        "\n",
        "* LoadImage: Load medical specific formats file from provided path\n",
        "* Spacing: Resample input image into the specified pixdim\n",
        "* Orientation: Change the image’s orientation into the specified axcodes\n",
        "* RandGaussianNoise: Perturb image intensities by adding statistical noises\n",
        "* NormalizeIntensity: Intensity Normalization based on mean and standard deviation\n",
        "* Affine: Transform image based on the affine parameters\n",
        "* Rand2DElastic: Random elastic deformation and affine in 2D\n",
        "* Rand3DElastic: Random elastic deformation and affine in 3D"
      ]
    },
    {
      "cell_type": "markdown",
      "id": "ahead-bicycle",
      "metadata": {
        "id": "ahead-bicycle"
      },
      "source": [
        "#### Create Toy Data and Temp Directory for Examples\n",
        "\n",
        "We'll create a temporary directory and populate it with a few example Nifti file-format images containing a random assortment of spheres.  We're also creating a matching segmentation pair that will be used later in the notebook."
      ]
    },
    {
      "cell_type": "code",
      "execution_count": 5,
      "id": "standing-macedonia",
      "metadata": {
        "id": "standing-macedonia"
      },
      "outputs": [],
      "source": [
        "fn_keys = (\"img\", \"seg\")  # filename keys for image and seg files\n",
        "\n",
        "root_dir = tempfile.mkdtemp()\n",
        "filenames = []\n",
        "\n",
        "for i in range(5):\n",
        "    im, seg = create_test_image_3d(128, 128, 128, num_objs=16, rad_max=25)\n",
        "\n",
        "    im_filename = f\"{root_dir}/im{i}.nii.gz\"\n",
        "    seg_filename = f\"{root_dir}/seg{i}.nii.gz\"\n",
        "    filenames.append({\"img\": im_filename, \"seg\": seg_filename})\n",
        "\n",
        "    n = nib.Nifti1Image(im, np.eye(4))\n",
        "    nib.save(n, im_filename)\n",
        "\n",
        "    n = nib.Nifti1Image(seg, np.eye(4))\n",
        "    nib.save(n, seg_filename)"
      ]
    },
    {
      "cell_type": "markdown",
      "id": "celtic-theater",
      "metadata": {
        "id": "celtic-theater"
      },
      "source": [
        "#### Array Transforms\n",
        "\n",
        "Transforms in MONAI are callable objects accepting inputs from initial data in a dataset or previous transforms. We can create and call these directly without any infrastructure or system setup as components in MONAI are designed to be as decoupled as possible. For example we can load one of our Nifti files directly by creating the transform and calling it."
      ]
    },
    {
      "cell_type": "code",
      "execution_count": 6,
      "id": "purple-litigation",
      "metadata": {
        "id": "purple-litigation",
        "outputId": "b889206a-74e6-44b5-c831-42b9d92721cd",
        "colab": {
          "base_uri": "https://localhost:8080/"
        }
      },
      "outputs": [
        {
          "output_type": "stream",
          "name": "stdout",
          "text": [
            "<class 'monai.data.meta_tensor.MetaTensor'> torch.Size([1, 128, 128, 128]) -1\n"
          ]
        }
      ],
      "source": [
        "trans = Compose([LoadImage(image_only=True), EnsureChannelFirst()])\n",
        "img = trans(filenames[0][\"img\"])\n",
        "print(type(img), img.shape, img.get_device())"
      ]
    },
    {
      "cell_type": "markdown",
      "id": "comparative-chain",
      "metadata": {
        "id": "comparative-chain"
      },
      "source": [
        "#### Dictionary Transforms\n",
        "\n",
        "So far we have seen transforms which are applied to individual Numpy arrays, however for most training schemes a pipeline with multiple values is needed:\n",
        "* To address this MONAI includes transforms for operating on dictionaries of arrays, one for each equivalent array transform\n",
        "* These can be applied to named values in an input dictionary while leaving unnamed values untouched\n",
        "  * for example adding noise to an image while leaving the associated label image untouched."
      ]
    },
    {
      "cell_type": "markdown",
      "id": "6046eed8",
      "metadata": {
        "id": "6046eed8"
      },
      "source": [
        "#### Dictionary Transforms\n",
        "\n",
        "Earlier in the notebook we imported the dictionary equivalent transforms which have a 'd' appended to their names:\n",
        "* We'll use those transforms in this section\n",
        "* The keys argument in LoadNiftid is used to state which keys contain paths to Nifti files\n",
        "  * All other values in the input dictionary will be retained\n",
        "  * With this set we can look at the keys returned when calling the transform:"
      ]
    },
    {
      "cell_type": "code",
      "execution_count": 7,
      "id": "republican-kenya",
      "metadata": {
        "id": "republican-kenya",
        "outputId": "49d32309-810e-4fd6-9a68-8a6127e76c77",
        "colab": {
          "base_uri": "https://localhost:8080/"
        }
      },
      "outputs": [
        {
          "output_type": "stream",
          "name": "stdout",
          "text": [
            "['img', 'seg', 'img_meta_dict', 'seg_meta_dict']\n"
          ]
        },
        {
          "output_type": "stream",
          "name": "stderr",
          "text": [
            "/usr/local/lib/python3.10/dist-packages/monai/utils/deprecate_utils.py:321: FutureWarning: monai.transforms.io.dictionary LoadImaged.__init__:image_only: Current default value of argument `image_only=False` has been deprecated since version 1.1. It will be changed to `image_only=True` in version 1.3.\n",
            "  warn_deprecated(argname, msg, warning_category)\n"
          ]
        }
      ],
      "source": [
        "trans = LoadImaged(keys=fn_keys)\n",
        "data = trans(filenames[0])\n",
        "print(list(data.keys()))"
      ]
    },
    {
      "cell_type": "markdown",
      "id": "waiting-palestinian",
      "metadata": {
        "id": "waiting-palestinian"
      },
      "source": [
        "### What is required to write a custom transform?\n",
        "\n"
      ]
    },
    {
      "cell_type": "markdown",
      "id": "intellectual-wrist",
      "metadata": {
        "id": "intellectual-wrist"
      },
      "source": [
        "#### Custom Array Transform\n",
        "\n",
        "We can define our own custom transform operation in a number of ways.\n",
        "\n",
        "If a simple callable is used as an operator, `Lambda` can be used to wrap it as a transform:\n",
        "* We define in this example a transform to sum the image in the 1st (width) dimension to produce a 2D image:"
      ]
    },
    {
      "cell_type": "code",
      "execution_count": 8,
      "id": "selected-conservative",
      "metadata": {
        "id": "selected-conservative",
        "outputId": "059d82e4-c860-4852-af37-61adc759340f",
        "colab": {
          "base_uri": "https://localhost:8080/",
          "height": 452
        }
      },
      "outputs": [
        {
          "output_type": "execute_result",
          "data": {
            "text/plain": [
              "<matplotlib.image.AxesImage at 0x7e1c93cca650>"
            ]
          },
          "metadata": {},
          "execution_count": 8
        },
        {
          "output_type": "display_data",
          "data": {
            "text/plain": [
              "<Figure size 640x480 with 1 Axes>"
            ],
            "image/png": "[encoded data removed]"
          },
          "metadata": {}
        }
      ],
      "source": [
        "def sum_width(img):\n",
        "    return img.sum(1)\n",
        "\n",
        "\n",
        "trans = Compose([LoadImage(image_only=True), EnsureChannelFirst(), Lambda(sum_width)])\n",
        "img = trans(filenames[0][\"img\"])\n",
        "plt.imshow(img[0])"
      ]
    },
    {
      "cell_type": "markdown",
      "id": "conservative-comedy",
      "metadata": {
        "id": "conservative-comedy"
      },
      "source": [
        "Creating a subclass of Transform is the second method, and this has the advantage of being able to define attributes with the instantiated objects:\n",
        "* Let's define a class to sum in a chosen dimension, and use it to sum in the 2nd (height) dimension:"
      ]
    },
    {
      "cell_type": "code",
      "execution_count": null,
      "id": "alert-reproduction",
      "metadata": {
        "id": "alert-reproduction"
      },
      "outputs": [],
      "source": [
        "class SumDimension(Transform):\n",
        "    def __init__(self, dim=1):\n",
        "        self.dim = dim\n",
        "\n",
        "    def __call__(self, inputs):\n",
        "        return inputs.sum(self.dim)\n",
        "\n",
        "\n",
        "trans = Compose([LoadImage(image_only=True), EnsureChannelFirst(), SumDimension(2)])\n",
        "img = trans(filenames[0][\"img\"])\n",
        "plt.imshow(img[0])"
      ]
    },
    {
      "cell_type": "markdown",
      "id": "suspected-financing",
      "metadata": {
        "id": "suspected-financing"
      },
      "source": [
        "#### Custom Dictionary Transform\n",
        "\n",
        "`Lambdad` applies the given callable to each array named by `keys` separately:\n",
        "* We can use this to define transforms operating on different named values in the dictionary at different points in the sequence:"
      ]
    },
    {
      "cell_type": "code",
      "execution_count": 9,
      "id": "fantastic-eating",
      "metadata": {
        "id": "fantastic-eating",
        "outputId": "0ca7ee15-3e74-42c0-e5e3-fe50112fd458",
        "colab": {
          "base_uri": "https://localhost:8080/",
          "height": 331
        }
      },
      "outputs": [
        {
          "output_type": "execute_result",
          "data": {
            "text/plain": [
              "<matplotlib.image.AxesImage at 0x7e1c91c2e620>"
            ]
          },
          "metadata": {},
          "execution_count": 9
        },
        {
          "output_type": "display_data",
          "data": {
            "text/plain": [
              "<Figure size 640x480 with 1 Axes>"
            ],
            "image/png": "[encoded data removed]"
          },
          "metadata": {}
        }
      ],
      "source": [
        "def sum_width(img):\n",
        "    return img.sum(1)\n",
        "\n",
        "def max_width(img):\n",
        "    return img.max(1)\n",
        "\n",
        "trans = Compose(\n",
        "    [LoadImaged(fn_keys), EnsureChannelFirstd(fn_keys), Lambdad((\"img\",), sum_width), Lambdad((\"seg\",), max_width)]\n",
        ")\n",
        "\n",
        "imgd = trans(filenames[0])\n",
        "img = imgd[\"img\"]\n",
        "seg = imgd[\"seg\"]\n",
        "\n",
        "plt.imshow(np.hstack((img[0] * 5 / img.max(), np.squeeze(seg[0]))))"
      ]
    },
    {
      "cell_type": "markdown",
      "id": "tired-france",
      "metadata": {
        "id": "tired-france"
      },
      "source": [
        "#### Deterministic vs non-deterministic transforms\n",
        "\n",
        "*Deterministic transforms*: Given same input, produce the same output\n",
        "\n",
        "*Non-Deterministic transforms*: Given the same input, produce randomized output each time, based on RNG\n",
        "\n",
        "MONAI's non-deterministic transforms have several useful features:\n",
        "* By default, each transform has its own RNG\n",
        "* Datasets can override this (see `ArrayDataset` below)\n",
        "* You can override it by providing either a 'seed' or a `RandomState` instance\n"
      ]
    },
    {
      "cell_type": "markdown",
      "id": "bored-california",
      "metadata": {
        "id": "bored-california"
      },
      "source": [
        "### 3. How do I create a basic MONAI dataset with transforms?\n",
        "\n",
        "Now that we've taken a look at transform, let's take a look at datasets:\n",
        "* With a data source and transforms defined we can now create a dataset object\n",
        "* The base class for MONAI is `Dataset`, created here to load the image Nifti files only\n",
        "* `Dataset` inherits from the Pytorch class of that name and adds only the ability to apply the given transform to selected items\n",
        "  * If you're familiar with the class from Pytorch this will work the same way."
      ]
    },
    {
      "cell_type": "code",
      "execution_count": 10,
      "id": "positive-lunch",
      "metadata": {
        "id": "positive-lunch",
        "outputId": "375dfb72-a9b9-4e54-f025-400ad2b5721e",
        "colab": {
          "base_uri": "https://localhost:8080/"
        }
      },
      "outputs": [
        {
          "output_type": "stream",
          "name": "stdout",
          "text": [
            "torch.Size([1, 128, 128, 128]) -1\n"
          ]
        }
      ],
      "source": [
        "images = [fn[\"img\"] for fn in filenames]\n",
        "\n",
        "transform = Compose([LoadImage(image_only=True), EnsureChannelFirst()])\n",
        "ds = Dataset(images, transform)\n",
        "img_tensor = ds[0]\n",
        "print(img_tensor.shape, img_tensor.get_device())"
      ]
    },
    {
      "cell_type": "markdown",
      "id": "noble-sector",
      "metadata": {
        "id": "noble-sector"
      },
      "source": [
        "#### ArrayDataset\n",
        "\n",
        "MONAI provides the `ArrayDataset` for supervised training applications:\n",
        "* Provide one pipeline for images and another for labels\n",
        "* Typically this is useful when performing augmentations on images that don't make sense for labels\n",
        "  * Adding noise, normalization, so forth\n",
        "* Both pipelines use the random state of the dataset to ensure consistency for random operations\n",
        "  * Caveat: The shared operations must be in the same order\n",
        "  * Caveat: The shared operations must be before any unshared operations"
      ]
    },
    {
      "cell_type": "markdown",
      "id": "cbec046e",
      "metadata": {
        "id": "cbec046e"
      },
      "source": [
        "#### ArrayDataset"
      ]
    },
    {
      "cell_type": "code",
      "execution_count": 11,
      "id": "golden-budget",
      "metadata": {
        "id": "golden-budget",
        "outputId": "0ae9beb5-a968-4955-e1c0-c9934792d113",
        "colab": {
          "base_uri": "https://localhost:8080/",
          "height": 331
        }
      },
      "outputs": [
        {
          "output_type": "execute_result",
          "data": {
            "text/plain": [
              "<matplotlib.image.AxesImage at 0x7e1c91c28e50>"
            ]
          },
          "metadata": {},
          "execution_count": 11
        },
        {
          "output_type": "display_data",
          "data": {
            "text/plain": [
              "<Figure size 640x480 with 1 Axes>"
            ],
            "image/png": "[encoded data removed]"
          },
          "metadata": {}
        }
      ],
      "source": [
        "images = [fn[\"img\"] for fn in filenames]\n",
        "segs = [fn[\"seg\"] for fn in filenames]\n",
        "\n",
        "img_transform = Compose(\n",
        "    [\n",
        "        LoadImage(image_only=True),\n",
        "        EnsureChannelFirst(),\n",
        "        RandSpatialCrop((128, 128, 128), random_size=False),\n",
        "        RandGaussianNoise(.5, 1, 1),\n",
        "    ]\n",
        ")\n",
        "seg_transform = Compose(\n",
        "    [LoadImage(image_only=True), EnsureChannelFirst(), RandSpatialCrop((128, 128, 128), random_size=False)]\n",
        ")\n",
        "\n",
        "ds = ArrayDataset(images, img_transform, segs, seg_transform)\n",
        "im, seg = ds[0]\n",
        "plt.imshow(np.hstack([im.numpy()[0, 48], seg.numpy()[0, 48]]))"
      ]
    },
    {
      "cell_type": "markdown",
      "id": "infinite-honor",
      "metadata": {
        "id": "infinite-honor"
      },
      "source": [
        "#### Dataset with Dictionary-based Transforms\n",
        "\n",
        "Alternatively, `Dataset` can be used with dictionary-based transforms to construct a result mapping. For training applications beyond simple input/ground-truth pairs like the above this would be more suitable:"
      ]
    },
    {
      "cell_type": "code",
      "execution_count": 12,
      "id": "tropical-collaboration",
      "metadata": {
        "id": "tropical-collaboration",
        "outputId": "ddf92591-424e-4062-9f91-aee1ec6e381d",
        "colab": {
          "base_uri": "https://localhost:8080/",
          "height": 331
        }
      },
      "outputs": [
        {
          "output_type": "execute_result",
          "data": {
            "text/plain": [
              "<matplotlib.image.AxesImage at 0x7e1c91c24640>"
            ]
          },
          "metadata": {},
          "execution_count": 12
        },
        {
          "output_type": "display_data",
          "data": {
            "text/plain": [
              "<Figure size 640x480 with 1 Axes>"
            ],
            "image/png": "[encoded data removed]"
          },
          "metadata": {}
        }
      ],
      "source": [
        "trans = Compose(\n",
        "    [\n",
        "        LoadImaged(fn_keys),\n",
        "        EnsureChannelFirstd(fn_keys),\n",
        "        RandGaussianNoised((\"img\",)),\n",
        "        RandSpatialCropd(fn_keys, (128, 128, 128), random_size=False),\n",
        "    ]\n",
        ")\n",
        "\n",
        "ds = Dataset(filenames, trans)\n",
        "item = ds[0]\n",
        "im, seg = item[\"img\"], item[\"seg\"]\n",
        "plt.imshow(np.hstack([im.numpy()[0, 48], seg.numpy()[0, 48]]))"
      ]
    },
    {
      "cell_type": "markdown",
      "id": "found-sociology",
      "metadata": {
        "id": "found-sociology"
      },
      "source": [
        "#### DataLoader\n",
        "\n",
        "With the dataset defined, we can now create the dataloader to create data batches:\n",
        "* Inherits from Pytorch's `DataLoader` class with a few changes to the default constructor arguments\n",
        "* MONAI functionality is compatible with the PyTorch DataLoader\n",
        "  * Additional functionality adds key extensions to the standard `DataLoader`\n"
      ]
    },
    {
      "cell_type": "markdown",
      "id": "4803e234",
      "metadata": {
        "id": "4803e234"
      },
      "source": [
        "##### Example\n",
        "* The `DataLoader` example uses five worker processes to load the actual data\n",
        "* MONAI also provides a number of `Dataset` subclasses to further improve the efficiency of this process"
      ]
    },
    {
      "cell_type": "code",
      "execution_count": 13,
      "id": "opponent-addiction",
      "metadata": {
        "id": "opponent-addiction",
        "outputId": "858f037e-68b8-40f2-aeae-838c26e77757",
        "colab": {
          "base_uri": "https://localhost:8080/",
          "height": 450
        }
      },
      "outputs": [
        {
          "output_type": "stream",
          "name": "stderr",
          "text": [
            "/usr/local/lib/python3.10/dist-packages/torch/utils/data/dataloader.py:617: UserWarning: This DataLoader will create 5 worker processes in total. Our suggested max number of worker in current system is 2, which is smaller than what this DataLoader is going to create. Please be aware that excessive worker creation might get DataLoader running slow or even freeze, lower the worker number to avoid potential slowness/freeze if necessary.\n",
            "  warnings.warn(\n"
          ]
        },
        {
          "output_type": "stream",
          "name": "stdout",
          "text": [
            "['img', 'seg', 'img_meta_dict', 'seg_meta_dict'] torch.Size([5, 1, 128, 128, 128])\n"
          ]
        },
        {
          "output_type": "execute_result",
          "data": {
            "text/plain": [
              "<matplotlib.image.AxesImage at 0x7e1c8fe88d00>"
            ]
          },
          "metadata": {},
          "execution_count": 13
        },
        {
          "output_type": "display_data",
          "data": {
            "text/plain": [
              "<Figure size 800x400 with 2 Axes>"
            ],
            "image/png": "[encoded data removed]"
          },
          "metadata": {}
        }
      ],
      "source": [
        "loader = DataLoader(ds, batch_size=5, num_workers=5)\n",
        "batch = first(loader)\n",
        "print(list(batch.keys()), batch[\"img\"].shape)\n",
        "\n",
        "f, ax = plt.subplots(2, 1, figsize=(8, 4))\n",
        "ax[0].imshow(np.hstack(batch[\"img\"][:, 0, 64]))\n",
        "ax[1].imshow(np.hstack(batch[\"seg\"][:, 0, 64]))"
      ]
    },
    {
      "cell_type": "markdown",
      "id": "different-squad",
      "metadata": {
        "id": "different-squad"
      },
      "source": [
        "### 4. What is a MONAI Dataset and how does dataset caching work?\n",
        "\n",
        "\n",
        "Users often need to train the model with many (potentially thousands of) epochs over the data to achieve the desired model quality:\n",
        "* A native PyTorch implementation may repeatedly load data and run the same preprocessing steps for every epoch during training\n",
        "* Can be time-consuming and unnecessary, especially when the medical image volumes are large\n",
        "* By utilizing Dataset Caching, you can reduce the amount of time your system takes to load this data and preprocess it\n",
        "* Reducing your overall training time.\n",
        "\n",
        "We will demonstrate two of the Dataset subclasses here but there are additional useful specialised `Dataset`s\n",
        "\n"
      ]
    },
    {
      "cell_type": "markdown",
      "id": "demographic-filter",
      "metadata": {
        "id": "demographic-filter"
      },
      "source": [
        "#### What is a MONAI Dataset?\n",
        "\n",
        "A MONAI Dataset is a generic dataset with a __len__ property, __getitem__ property, and an optional callable data transform when fetching a data sample.\n",
        "\n",
        "We'll start by initializing some generic data, calling the Dataset class with the generic data, and specifying None for our transforms."
      ]
    },
    {
      "cell_type": "code",
      "execution_count": 14,
      "id": "analyzed-latest",
      "metadata": {
        "id": "analyzed-latest",
        "outputId": "e4177f0a-9f50-43cc-b1fd-bc27c0d586ce",
        "colab": {
          "base_uri": "https://localhost:8080/"
        }
      },
      "outputs": [
        {
          "output_type": "stream",
          "name": "stdout",
          "text": [
            "Length of dataset is 7\n",
            "{'data': 4}\n",
            "{'data': 9}\n",
            "{'data': 3}\n",
            "{'data': 7}\n",
            "{'data': 1}\n",
            "{'data': 2}\n",
            "{'data': 5}\n"
          ]
        }
      ],
      "source": [
        "items = [{\"data\": 4},\n",
        "         {\"data\": 9},\n",
        "         {\"data\": 3},\n",
        "         {\"data\": 7},\n",
        "         {\"data\": 1},\n",
        "         {\"data\": 2},\n",
        "         {\"data\": 5}]\n",
        "dataset = monai.data.Dataset(items, transform=None)\n",
        "\n",
        "print(f\"Length of dataset is {len(dataset)}\")\n",
        "for item in dataset:\n",
        "    print(item)"
      ]
    },
    {
      "cell_type": "markdown",
      "id": "registered-paste",
      "metadata": {
        "id": "registered-paste"
      },
      "source": [
        "#### Dataset compatibility with PyTorch DataLoader\n",
        "\n",
        "MONAI datasets can be used with vanilla PyTorch DataLoader:\n",
        "* As mentioned, MONAI's `DataLoader` has additional useful functionality"
      ]
    },
    {
      "cell_type": "code",
      "execution_count": 15,
      "id": "suffering-royal",
      "metadata": {
        "id": "suffering-royal",
        "outputId": "c947a4f8-b389-4420-c6eb-2b0122c675cc",
        "colab": {
          "base_uri": "https://localhost:8080/"
        }
      },
      "outputs": [
        {
          "output_type": "stream",
          "name": "stdout",
          "text": [
            "{'data': tensor([4, 9])}\n",
            "{'data': tensor([3, 7])}\n",
            "{'data': tensor([1, 2])}\n",
            "{'data': tensor([5])}\n"
          ]
        }
      ],
      "source": [
        "for item in torch.utils.data.DataLoader(dataset, batch_size=2):\n",
        "    print(item)"
      ]
    },
    {
      "cell_type": "markdown",
      "id": "healthy-league",
      "metadata": {
        "id": "healthy-league"
      },
      "source": [
        "#### What is Dataset Caching and how do I use it?\n",
        "\n",
        "MONAI provides multi-thread versions of `CacheDataset` and `LMDBDataset` to accelerate transformation pipelines during training:\n",
        " * put deterministic transforms first, and random transforms after\n",
        " * the output of the deterministic transforms is always the same, so only compute once!\n",
        " * random transforms produce different outputs each time they are used so must be computed every time\n",
        "   * can provide up to 10x training speedup in the Datasets experiment.\n",
        "\n",
        "<img src=\"https://github.com/Project-MONAI/monai-bootcamp/blob/main/MONAICore/cache_dataset.png?raw=1\" style=\"width: 700px;\"/>\n",
        "\n"
      ]
    },
    {
      "cell_type": "markdown",
      "id": "approved-membrane",
      "metadata": {
        "id": "approved-membrane"
      },
      "source": [
        "To demonstrate the benefit dataset caching, we're going to construct a dataset with a slow transform:\n",
        " * To do that, we're going to call the sleep function during each of the `__call__` functions."
      ]
    },
    {
      "cell_type": "code",
      "execution_count": 16,
      "id": "occupied-vampire",
      "metadata": {
        "id": "occupied-vampire",
        "outputId": "0a08ae72-dbb2-41fa-eb48-1c796b7e0faf",
        "colab": {
          "base_uri": "https://localhost:8080/"
        }
      },
      "outputs": [
        {
          "output_type": "stream",
          "name": "stdout",
          "text": [
            "keys to square it: ('data',)\n"
          ]
        }
      ],
      "source": [
        "class SlowSquare(MapTransform):\n",
        "    def __init__(self, keys):\n",
        "        MapTransform.__init__(self, keys)\n",
        "        print(f\"keys to square it: {self.keys}\")\n",
        "\n",
        "    def __call__(self, x):\n",
        "        time.sleep(1.0)\n",
        "        output = {key: x[key] ** 2 for key in self.keys}\n",
        "        return output\n",
        "\n",
        "square_dataset = Dataset(items, transform=SlowSquare(keys=\"data\"))"
      ]
    },
    {
      "cell_type": "markdown",
      "id": "bound-armor",
      "metadata": {
        "id": "bound-armor"
      },
      "source": [
        "As expected, it's going to take about 7 seconds to go through all the items."
      ]
    },
    {
      "cell_type": "code",
      "execution_count": 17,
      "id": "limiting-laundry",
      "metadata": {
        "id": "limiting-laundry",
        "outputId": "d00db7aa-4f99-463d-9f3d-64ebf5886458",
        "colab": {
          "base_uri": "https://localhost:8080/"
        }
      },
      "outputs": [
        {
          "output_type": "stream",
          "name": "stdout",
          "text": [
            "{'data': 16}\n",
            "{'data': 81}\n",
            "{'data': 9}\n",
            "{'data': 49}\n",
            "{'data': 1}\n",
            "{'data': 4}\n",
            "{'data': 25}\n",
            "CPU times: user 33.3 ms, sys: 4.03 ms, total: 37.3 ms\n",
            "Wall time: 7.01 s\n"
          ]
        }
      ],
      "source": [
        "%time for item in square_dataset: print(item)"
      ]
    },
    {
      "cell_type": "markdown",
      "id": "exterior-agriculture",
      "metadata": {
        "id": "exterior-agriculture"
      },
      "source": [
        "Every time we run this loop it takes roughly 7 seconds to go through all of the items:\n",
        " * 12 extra minutes of load time for 100 epochs\n",
        " * We can improve this time by utilizing caching."
      ]
    },
    {
      "cell_type": "markdown",
      "id": "victorian-passenger",
      "metadata": {
        "id": "victorian-passenger"
      },
      "source": [
        "#### Cache Dataset\n",
        "\n",
        "When using [CacheDataset](https://docs.monai.io/en/latest/data.html?highlight=dataset#cachedataset) the caching is done when the object is initialized for the first time, so the initialization is slower than a regular dataset:\n",
        "* By caching the results of non-random preprocessing transforms, it accelerates the training data pipeline\n",
        "* If the requested data is not in the cache, all transforms will run normally."
      ]
    },
    {
      "cell_type": "code",
      "execution_count": 18,
      "id": "enclosed-union",
      "metadata": {
        "id": "enclosed-union",
        "outputId": "05d001f3-c3ae-49de-c023-fa5374a6fb74",
        "colab": {
          "base_uri": "https://localhost:8080/"
        }
      },
      "outputs": [
        {
          "output_type": "stream",
          "name": "stdout",
          "text": [
            "keys to square it: ('data',)\n"
          ]
        },
        {
          "output_type": "stream",
          "name": "stderr",
          "text": [
            "Loading dataset: 100%|██████████| 7/7 [00:07<00:00,  1.00s/it]\n"
          ]
        }
      ],
      "source": [
        "square_cached = CacheDataset(items, transform=SlowSquare(keys='data'))"
      ]
    },
    {
      "cell_type": "markdown",
      "id": "crude-latter",
      "metadata": {
        "id": "crude-latter"
      },
      "source": [
        "However, repeatedly fetching the items from an initialized CacheDataset is fast."
      ]
    },
    {
      "cell_type": "code",
      "execution_count": 20,
      "id": "sapphire-ticket",
      "metadata": {
        "id": "sapphire-ticket",
        "outputId": "398d1dc6-5325-4a35-8a64-12744ae04499",
        "colab": {
          "base_uri": "https://localhost:8080/"
        }
      },
      "outputs": [
        {
          "output_type": "stream",
          "name": "stdout",
          "text": [
            "13.9 µs ± 2.71 µs per loop (mean ± std. dev. of 7 runs, 100000 loops each)\n"
          ]
        }
      ],
      "source": [
        "%timeit list(square_cached)"
      ]
    },
    {
      "cell_type": "markdown",
      "id": "homeless-chapter",
      "metadata": {
        "id": "homeless-chapter"
      },
      "source": [
        "### Persistent Caching\n",
        "\n",
        "[PersistentDataset](https://docs.monai.io/en/latest/data.html?highlight=dataset#persistentdataset) allows for persistent storage of pre-computed values to efficiently manage larger than memory dictionary format data:\n",
        "* Again, the non-random transform components are computed when first used\n",
        "* Stored in the cache_dir for rapid retrieval on subsequent uses"
      ]
    },
    {
      "cell_type": "code",
      "execution_count": 21,
      "id": "complete-prayer",
      "metadata": {
        "id": "complete-prayer",
        "outputId": "98ef453e-f169-4f61-a283-5c394a15b7d5",
        "colab": {
          "base_uri": "https://localhost:8080/"
        }
      },
      "outputs": [
        {
          "output_type": "stream",
          "name": "stdout",
          "text": [
            "keys to square it: ('data',)\n",
            "{'data': 16}\n",
            "{'data': 81}\n",
            "{'data': 9}\n",
            "{'data': 49}\n",
            "{'data': 1}\n",
            "{'data': 4}\n",
            "{'data': 25}\n",
            "CPU times: user 41.2 ms, sys: 4.29 ms, total: 45.5 ms\n",
            "Wall time: 7.02 s\n"
          ]
        }
      ],
      "source": [
        "square_persist = monai.data.PersistentDataset(items, transform=SlowSquare(keys='data'), cache_dir=\"my_cache\")\n",
        "\n",
        "%time for item in square_persist: print(item)"
      ]
    },
    {
      "cell_type": "markdown",
      "id": "public-medline",
      "metadata": {
        "id": "public-medline"
      },
      "source": [
        "During the initialization of the PersistentDataset we passed in the parameter \"my_cache\" for the location to store the intermediate data. We'll look at that directory below."
      ]
    },
    {
      "cell_type": "code",
      "execution_count": 22,
      "id": "interesting-exhibition",
      "metadata": {
        "id": "interesting-exhibition",
        "outputId": "f5ae8ab8-8e67-4116-b66e-72bbe3308966",
        "colab": {
          "base_uri": "https://localhost:8080/"
        }
      },
      "outputs": [
        {
          "output_type": "stream",
          "name": "stdout",
          "text": [
            "57d3e1f66415b9a6a36a90dd89c708c3.pt  acdbabea1a1facbf07dbe5010a951af9.pt\n",
            "5ec8e24ba3963d83f2f6c81744796545.pt  ca0b3885ae71075716d5bd863961a8bc.pt\n",
            "6c81bd5aa312ecd4ba9a5e0340e06a55.pt  f263a1a8f1344ac65b574f0bf30813af.pt\n",
            "71177f0b196d6c5f84f26579bf19caae.pt\n"
          ]
        }
      ],
      "source": [
        "!ls my_cache"
      ]
    },
    {
      "cell_type": "markdown",
      "id": "encouraging-hamburg",
      "metadata": {
        "id": "encouraging-hamburg"
      },
      "source": [
        "When calling out to the dataset on the following epochs, it will not call the slow transform but used the cached data."
      ]
    },
    {
      "cell_type": "code",
      "execution_count": 23,
      "id": "intelligent-album",
      "metadata": {
        "id": "intelligent-album",
        "outputId": "b182b8d8-a861-4753-e0ce-b03bf37956bd",
        "colab": {
          "base_uri": "https://localhost:8080/"
        }
      },
      "outputs": [
        {
          "output_type": "stream",
          "name": "stderr",
          "text": [
            "/usr/local/lib/python3.10/dist-packages/monai/data/dataset.py:384: FutureWarning: You are using `torch.load` with `weights_only=False` (the current default value), which uses the default pickle module implicitly. It is possible to construct malicious pickle data which will execute arbitrary code during unpickling (See https://github.com/pytorch/pytorch/blob/main/SECURITY.md#untrusted-models for more details). In a future release, the default value for `weights_only` will be flipped to `True`. This limits the functions that could be executed during unpickling. Arbitrary objects will no longer be allowed to be loaded via this mode unless they are explicitly allowlisted by the user via `torch.serialization.add_safe_globals`. We recommend you start setting `weights_only=True` for any use case where you don't have full control of the loaded file. Please open an issue on GitHub for any issues related to this experimental feature.\n",
            "  return torch.load(hashfile)\n"
          ]
        },
        {
          "output_type": "stream",
          "name": "stdout",
          "text": [
            "1.11 ms ± 231 µs per loop (mean ± std. dev. of 7 runs, 1000 loops each)\n"
          ]
        }
      ],
      "source": [
        "%timeit list(square_persist)"
      ]
    },
    {
      "cell_type": "markdown",
      "id": "flexible-investigator",
      "metadata": {
        "id": "flexible-investigator"
      },
      "source": [
        "Fresh dataset instances can make use of the caching data:"
      ]
    },
    {
      "cell_type": "code",
      "execution_count": 24,
      "id": "floating-danger",
      "metadata": {
        "id": "floating-danger",
        "outputId": "beaba587-930c-493c-e097-31717c3e27b8",
        "colab": {
          "base_uri": "https://localhost:8080/"
        }
      },
      "outputs": [
        {
          "output_type": "stream",
          "name": "stdout",
          "text": [
            "keys to square it: ('data',)\n",
            "1.1 ms ± 226 µs per loop (mean ± std. dev. of 7 runs, 1000 loops each)\n"
          ]
        }
      ],
      "source": [
        "square_persist_1 = monai.data.PersistentDataset(items, transform=SlowSquare(keys='data'), cache_dir=\"my_cache\")\n",
        "%timeit list(square_persist_1)"
      ]
    },
    {
      "cell_type": "markdown",
      "id": "traditional-casino",
      "metadata": {
        "id": "traditional-casino"
      },
      "source": [
        "#### Caching in action\n",
        "\n",
        "- There's also a [SmartCacheDataset](https://docs.monai.io/en/latest/data.html#monai.data.SmartCacheDataset) to hide the transforms latency with less memory consumption.\n",
        "- The dataset tutorial notebook has a working example and a comparison of different caching mechanism in MONAI: https://github.com/Project-MONAI/tutorials/blob/master/acceleration/dataset_type_performance.ipynb\n",
        "\n",
        "<center><img src=\"https://github.com/Project-MONAI/monai-bootcamp/blob/main/MONAICore/datasets_speed.png?raw=1\" style=\"width: 700px;\"/></center>"
      ]
    },
    {
      "cell_type": "markdown",
      "id": "accepted-citizenship",
      "metadata": {
        "id": "accepted-citizenship"
      },
      "source": [
        "### 5. What common datasets are provided by MONAI?\n",
        "\n",
        "To quickly get started with popular training data in the medical domain, MONAI provides several data-specific Datasets:\n",
        "* MedNISTDataset, DecathlonDataset, etc.\n",
        "* Provides easy downloading from our AWS storage, extraction of data files and supports generation of training/evaluation items with transforms"
      ]
    },
    {
      "cell_type": "markdown",
      "id": "wound-terry",
      "metadata": {
        "id": "wound-terry"
      },
      "source": [
        "##### Decathlon Dataset\n",
        "\n",
        "The [DecathlonDataset](https://docs.monai.io/en/latest/data.html?highlight=dataset#decathlon-datalist) function leverages the features described throughout this notebook.  These datasets are an extension of CacheDataset covered above."
      ]
    },
    {
      "cell_type": "code",
      "execution_count": 25,
      "id": "intended-brazilian",
      "metadata": {
        "id": "intended-brazilian",
        "outputId": "ef0e6df8-d3d0-4654-ea4c-f9e1ca2976af",
        "colab": {
          "base_uri": "https://localhost:8080/"
        }
      },
      "outputs": [
        {
          "output_type": "stream",
          "name": "stderr",
          "text": [
            "Task04_Hippocampus.tar: 27.1MB [00:01, 25.9MB/s]                            "
          ]
        },
        {
          "output_type": "stream",
          "name": "stdout",
          "text": [
            "2024-11-06 09:10:54,408 - INFO - Downloaded: Task04_Hippocampus.tar\n",
            "2024-11-06 09:10:54,460 - INFO - Verified 'Task04_Hippocampus.tar', md5: 9d24dba78a72977dbd1d2e110310f31b.\n",
            "2024-11-06 09:10:54,462 - INFO - Writing into directory: ..\n"
          ]
        },
        {
          "output_type": "stream",
          "name": "stderr",
          "text": [
            "\n",
            "Loading dataset: 100%|██████████| 208/208 [00:01<00:00, 147.52it/s]\n"
          ]
        }
      ],
      "source": [
        "dataset = monai.apps.DecathlonDataset(root_dir=\"./\", task=\"Task04_Hippocampus\", section=\"training\", download=True)"
      ]
    },
    {
      "cell_type": "code",
      "execution_count": 26,
      "id": "computational-assets",
      "metadata": {
        "id": "computational-assets",
        "outputId": "89a8aece-c0eb-469a-e839-b9a76f162a47",
        "colab": {
          "base_uri": "https://localhost:8080/"
        }
      },
      "outputs": [
        {
          "output_type": "stream",
          "name": "stdout",
          "text": [
            "{'numTraining': 260}\n",
            "{'description': 'Left and right hippocampus segmentation'}\n",
            "torch.Size([34, 56, 31])\n",
            "torch.Size([34, 56, 31])\n"
          ]
        }
      ],
      "source": [
        "print(dataset.get_properties(\"numTraining\"))\n",
        "print(dataset.get_properties(\"description\"))\n",
        "print(dataset[0]['image'].shape)\n",
        "print(dataset[0]['label'].shape)"
      ]
    },
    {
      "cell_type": "markdown",
      "id": "integrated-religious",
      "metadata": {
        "id": "integrated-religious"
      },
      "source": [
        "##### TCIA Dataset\n",
        "\n",
        "The Cancer Imaging Archive (TCIA)](https://www.cancerimagingarchive.net/) is a service which de-identifies and hosts a large publicly available archive of medical images of cancer:\n",
        "* TCIA is funded by the [Cancer Imaging Program (CIP)](https://imaging.cancer.gov/), a part of the United States [National Cancer Institute (NCI)](https://www.cancer.gov/), and is managed by the [Frederick National Laboratory for Cancer Research (FNLCR)](https://frederick.cancer.gov/).\n",
        "* The `TciaDataset` function will automatically download and extract the TCIA datasets with accompanying DICOM segmentations, and act as PyTorch datasets to generate training/validation/test data."
      ]
    },
    {
      "cell_type": "markdown",
      "id": "4d01816d",
      "metadata": {
        "id": "4d01816d"
      },
      "source": [
        "##### TCIA Dataset\n"
      ]
    },
    {
      "cell_type": "code",
      "execution_count": 27,
      "id": "chemical-southeast",
      "metadata": {
        "id": "chemical-southeast",
        "outputId": "de985290-3316-4e71-e4d1-bdb81ddccbbf",
        "colab": {
          "base_uri": "https://localhost:8080/",
          "height": 367
        }
      },
      "outputs": [
        {
          "output_type": "error",
          "ename": "RuntimeError",
          "evalue": "Cannot find dataset directory: ./QIN-PROSTATE-Repeatability.",
          "traceback": [
            "\u001b[0;31m---------------------------------------------------------------------------\u001b[0m",
            "\u001b[0;31mRuntimeError\u001b[0m                              Traceback (most recent call last)",
            "\u001b[0;32m<ipython-input-27-4a8d9582e3a7>\u001b[0m in \u001b[0;36m<cell line: 4>\u001b[0;34m()\u001b[0m\n\u001b[1;32m      2\u001b[0m \u001b[0mcollection\u001b[0m\u001b[0;34m,\u001b[0m \u001b[0mseg_type\u001b[0m \u001b[0;34m=\u001b[0m \u001b[0;34m\"QIN-PROSTATE-Repeatability\"\u001b[0m\u001b[0;34m,\u001b[0m \u001b[0;34m\"SEG\"\u001b[0m\u001b[0;34m\u001b[0m\u001b[0;34m\u001b[0m\u001b[0m\n\u001b[1;32m      3\u001b[0m \u001b[0;34m\u001b[0m\u001b[0m\n\u001b[0;32m----> 4\u001b[0;31m ds = TciaDataset(\n\u001b[0m\u001b[1;32m      5\u001b[0m     \u001b[0mroot_dir\u001b[0m\u001b[0;34m=\u001b[0m\u001b[0;34m\"./\"\u001b[0m\u001b[0;34m,\u001b[0m\u001b[0;34m\u001b[0m\u001b[0;34m\u001b[0m\u001b[0m\n\u001b[1;32m      6\u001b[0m     \u001b[0mcollection\u001b[0m\u001b[0;34m=\u001b[0m\u001b[0mcollection\u001b[0m\u001b[0;34m,\u001b[0m\u001b[0;34m\u001b[0m\u001b[0;34m\u001b[0m\u001b[0m\n",
            "\u001b[0;32m/usr/local/lib/python3.10/dist-packages/monai/apps/datasets.py\u001b[0m in \u001b[0;36m__init__\u001b[0;34m(self, root_dir, collection, section, transform, download, download_len, seg_type, modality_tag, ref_series_uid_tag, ref_sop_uid_tag, specific_tags, seed, val_frac, cache_num, cache_rate, num_workers, progress, copy_cache, as_contiguous, runtime_cache)\u001b[0m\n\u001b[1;32m    548\u001b[0m \u001b[0;34m\u001b[0m\u001b[0m\n\u001b[1;32m    549\u001b[0m         \u001b[0;32mif\u001b[0m \u001b[0;32mnot\u001b[0m \u001b[0mos\u001b[0m\u001b[0;34m.\u001b[0m\u001b[0mpath\u001b[0m\u001b[0;34m.\u001b[0m\u001b[0mexists\u001b[0m\u001b[0;34m(\u001b[0m\u001b[0mdownload_dir\u001b[0m\u001b[0;34m)\u001b[0m\u001b[0;34m:\u001b[0m\u001b[0;34m\u001b[0m\u001b[0;34m\u001b[0m\u001b[0m\n\u001b[0;32m--> 550\u001b[0;31m             \u001b[0;32mraise\u001b[0m \u001b[0mRuntimeError\u001b[0m\u001b[0;34m(\u001b[0m\u001b[0;34mf\"Cannot find dataset directory: {download_dir}.\"\u001b[0m\u001b[0;34m)\u001b[0m\u001b[0;34m\u001b[0m\u001b[0;34m\u001b[0m\u001b[0m\n\u001b[0m\u001b[1;32m    551\u001b[0m \u001b[0;34m\u001b[0m\u001b[0m\n\u001b[1;32m    552\u001b[0m         \u001b[0mself\u001b[0m\u001b[0;34m.\u001b[0m\u001b[0mindices\u001b[0m\u001b[0;34m:\u001b[0m \u001b[0mnp\u001b[0m\u001b[0;34m.\u001b[0m\u001b[0mndarray\u001b[0m \u001b[0;34m=\u001b[0m \u001b[0mnp\u001b[0m\u001b[0;34m.\u001b[0m\u001b[0marray\u001b[0m\u001b[0;34m(\u001b[0m\u001b[0;34m[\u001b[0m\u001b[0;34m]\u001b[0m\u001b[0;34m)\u001b[0m\u001b[0;34m\u001b[0m\u001b[0;34m\u001b[0m\u001b[0m\n",
            "\u001b[0;31mRuntimeError\u001b[0m: Cannot find dataset directory: ./QIN-PROSTATE-Repeatability."
          ]
        }
      ],
      "source": [
        "# Let's take the \"QIN-PROSTATE-Repeatability\" collection for example\n",
        "collection, seg_type = \"QIN-PROSTATE-Repeatability\", \"SEG\"\n",
        "\n",
        "ds = TciaDataset(\n",
        "    root_dir=\"./\",\n",
        "    collection=collection,\n",
        "    section=\"training\",\n",
        "    download=False,\n",
        "    download_len=1,\n",
        "    seg_type=seg_type,\n",
        "    progress=True,\n",
        "    cache_rate=0.0,\n",
        "    val_frac=0.2,\n",
        ")\n",
        "\n",
        "#print(ds.datalist[0])\n",
        "#print(len(ds.datalist))"
      ]
    },
    {
      "cell_type": "markdown",
      "id": "aquatic-module",
      "metadata": {
        "id": "aquatic-module"
      },
      "source": [
        "### What Network and Network components does MONAI provide and how do you use these components to create a network?\n",
        "\n",
        "MONAI provides definitions for networks and their components that inherit directly from Pytorch Module, Sequential, etc. These general purpose networks include parameterized topologies that can easily be expanded are independent from rest of MONAI so networks can be used with existing training code.\n",
        "\n",
        "MONAI includes the following submodules:\n",
        "* layers: defines low level layers, factories for selecting Pytorch and custom layers based on dimension and other arguments\n",
        "* blocks: mid-level building blocks defining specific reusable concepts networks are constructed from\n",
        "* nets: full network definitions for common architectures, eg. UNet, VNet, Densenet,\n"
      ]
    },
    {
      "cell_type": "markdown",
      "id": "f9368782",
      "metadata": {
        "id": "f9368782"
      },
      "source": [
        "Blocks and networks use LayerFactory objects as generic factory for custom and PyTorch layers.\n",
        "\n",
        "MONAI provides blocks for defining:\n",
        "- Convolution with activation and regularization\n",
        "- Residual units\n",
        "- Squeeze/excitation\n",
        "- Downsampling/upsampling\n",
        "- Subpixel convolutions"
      ]
    },
    {
      "cell_type": "markdown",
      "id": "fantastic-camel",
      "metadata": {
        "id": "fantastic-camel"
      },
      "source": [
        "#### How do you use MONAI Layers?\n",
        "\n",
        "Network functionality represents a significant design opportunity for MONAI:\n",
        "* Pytorch is very much unopinionated in how networks are defined\n",
        "* It provides Module as a base class to create a network and a few methods that must be implemented\n",
        "* Still, there is no prescribed pattern nor much helper functionality for initializing networks.\n",
        "\n",
        "The lack of helper functionality leaves a lot of room for defining some beneficial 'best practice' patterns for constructing new networks in MONAI:\n",
        "* Although trivial, inflexible network implementations are easy enough\n",
        "* We give users a toolset that makes it much easier to build well-engineered, flexible networks and demonstrate their value by committing to use them in the networks that we build"
      ]
    },
    {
      "cell_type": "code",
      "execution_count": 28,
      "id": "centered-christmas",
      "metadata": {
        "id": "centered-christmas"
      },
      "outputs": [],
      "source": [
        "from monai.networks.layers import Conv, Act, split_args, Pool"
      ]
    },
    {
      "cell_type": "markdown",
      "id": "medium-client",
      "metadata": {
        "id": "medium-client"
      },
      "source": [
        "##### Convolutions\n",
        "\n",
        "The [Conv](https://docs.monai.io/en/latest/networks.html#convolution) class has two options for the first argument. The second argument must be the number of spatial dimensions, `Conv[name, dimension]`, for example:"
      ]
    },
    {
      "cell_type": "code",
      "execution_count": 29,
      "id": "geographic-learning",
      "metadata": {
        "id": "geographic-learning",
        "outputId": "2a9e5e15-c0ce-4bd2-a890-c1fed1318844",
        "colab": {
          "base_uri": "https://localhost:8080/"
        }
      },
      "outputs": [
        {
          "output_type": "stream",
          "name": "stdout",
          "text": [
            "<class 'torch.nn.modules.conv.Conv1d'>\n",
            "<class 'torch.nn.modules.conv.Conv2d'>\n",
            "<class 'torch.nn.modules.conv.Conv3d'>\n",
            "<class 'torch.nn.modules.conv.ConvTranspose1d'>\n",
            "<class 'torch.nn.modules.conv.ConvTranspose2d'>\n",
            "<class 'torch.nn.modules.conv.ConvTranspose3d'>\n"
          ]
        }
      ],
      "source": [
        "print(Conv[Conv.CONV, 1])\n",
        "print(Conv[Conv.CONV, 2])\n",
        "print(Conv[Conv.CONV, 3])\n",
        "print(Conv[Conv.CONVTRANS, 1])\n",
        "print(Conv[Conv.CONVTRANS, 2])\n",
        "print(Conv[Conv.CONVTRANS, 3])"
      ]
    },
    {
      "cell_type": "markdown",
      "id": "maritime-weekend",
      "metadata": {
        "id": "maritime-weekend"
      },
      "source": [
        "The configured classes are the \"vanilla\" PyTorch layers. We could create instances of them by specifying the layer arguments:"
      ]
    },
    {
      "cell_type": "code",
      "execution_count": 30,
      "id": "hydraulic-classification",
      "metadata": {
        "id": "hydraulic-classification",
        "outputId": "300ce709-f431-4c6a-d0c2-0dc70162c76f",
        "colab": {
          "base_uri": "https://localhost:8080/"
        }
      },
      "outputs": [
        {
          "output_type": "stream",
          "name": "stdout",
          "text": [
            "Conv2d(1, 4, kernel_size=(3, 3), stride=(1, 1))\n",
            "Conv3d(1, 4, kernel_size=(3, 3, 3), stride=(1, 1, 1))\n"
          ]
        }
      ],
      "source": [
        "print(Conv[Conv.CONV, 2](in_channels=1, out_channels=4, kernel_size=3))\n",
        "print(Conv[Conv.CONV, 3](in_channels=1, out_channels=4, kernel_size=3))"
      ]
    },
    {
      "cell_type": "markdown",
      "id": "expanded-server",
      "metadata": {
        "id": "expanded-server"
      },
      "source": [
        "##### Activiation\n",
        "\n",
        "The [Act](https://docs.monai.io/en/latest/networks.html#module-monai.networks.layers.Act) classes don't require the spatial dimension information, but supports additional arguments."
      ]
    },
    {
      "cell_type": "code",
      "execution_count": 31,
      "id": "flying-estonia",
      "metadata": {
        "id": "flying-estonia",
        "outputId": "7e057e9a-f3a9-4441-bf74-dd95fbc29377",
        "colab": {
          "base_uri": "https://localhost:8080/"
        }
      },
      "outputs": [
        {
          "output_type": "stream",
          "name": "stdout",
          "text": [
            "<class 'torch.nn.modules.activation.PReLU'>\n"
          ]
        },
        {
          "output_type": "execute_result",
          "data": {
            "text/plain": [
              "PReLU(num_parameters=1)"
            ]
          },
          "metadata": {},
          "execution_count": 31
        }
      ],
      "source": [
        "print(Act[Act.PRELU])\n",
        "Act[Act.PRELU](num_parameters=1, init=0.1)"
      ]
    },
    {
      "cell_type": "markdown",
      "id": "worth-complement",
      "metadata": {
        "id": "worth-complement"
      },
      "source": [
        "These could be fully specified with a tuple of `(type_name, arg_dict)`, such as `(\"prelu\", {\"num_parameters\": 1, \"init\": 0.1})`:"
      ]
    },
    {
      "cell_type": "code",
      "execution_count": 32,
      "id": "varied-lebanon",
      "metadata": {
        "id": "varied-lebanon",
        "outputId": "840919ef-ca4c-4d9a-d862-2dc2d9621b3d",
        "colab": {
          "base_uri": "https://localhost:8080/"
        }
      },
      "outputs": [
        {
          "output_type": "execute_result",
          "data": {
            "text/plain": [
              "PReLU(num_parameters=1)"
            ]
          },
          "metadata": {},
          "execution_count": 32
        }
      ],
      "source": [
        "act_name, act_args = split_args((\"prelu\", {\"num_parameters\": 1, \"init\": 0.1}))\n",
        "Act[act_name](**act_args)"
      ]
    },
    {
      "cell_type": "markdown",
      "id": "differential-humanitarian",
      "metadata": {
        "id": "differential-humanitarian"
      },
      "source": [
        "#### How do you use these components to create a network?\n",
        "\n",
        "##### Flexible Definition Networks\n",
        "\n",
        "These APIs allow for flexible definitions of networks.  Below we'll create a class called `MyNetwork` that utilizes `Conv`, `Act`, and `Pool`.  Each Network requires an `__init__` and a `forward` function."
      ]
    },
    {
      "cell_type": "code",
      "execution_count": 33,
      "id": "large-paper",
      "metadata": {
        "id": "large-paper"
      },
      "outputs": [],
      "source": [
        "class MyNetwork(torch.nn.Module):\n",
        "    def __init__(self, dims=3, in_channels=1, out_channels=8, kernel_size=3, pool_kernel=2, act=\"relu\"):\n",
        "        super(MyNetwork, self).__init__()\n",
        "        # convolution\n",
        "        self.conv = Conv[Conv.CONV, dims](in_channels, out_channels, kernel_size=kernel_size)\n",
        "        # activation\n",
        "        act_type, act_args = split_args(act)\n",
        "        self.act = Act[act_type](**act_args)\n",
        "        # pooling\n",
        "        self.pool = Pool[Pool.MAX, dims](pool_kernel)\n",
        "\n",
        "    def forward(self, x: torch.Tensor):\n",
        "        x = self.conv(x)\n",
        "        x = self.act(x)\n",
        "        x = self.pool(x)\n",
        "        return x"
      ]
    },
    {
      "cell_type": "markdown",
      "id": "narrative-massachusetts",
      "metadata": {
        "id": "narrative-massachusetts"
      },
      "source": [
        "##### Example Instantiations\n",
        "\n",
        "This network definition can be instantiated to support either 2D or 3D inputs, with flexible kernel sizes.  It becomes handy when adapting the same architecture design for different tasks, switching among 2D, 2.5D, 3D easily."
      ]
    },
    {
      "cell_type": "code",
      "execution_count": 34,
      "id": "micro-wedding",
      "metadata": {
        "id": "micro-wedding",
        "outputId": "e232fac2-05a3-4bcc-e0ec-cea817b2f47b",
        "colab": {
          "base_uri": "https://localhost:8080/"
        }
      },
      "outputs": [
        {
          "output_type": "stream",
          "name": "stdout",
          "text": [
            "MyNetwork(\n",
            "  (conv): Conv3d(1, 8, kernel_size=(3, 3, 3), stride=(1, 1, 1))\n",
            "  (act): ReLU()\n",
            "  (pool): MaxPool3d(kernel_size=2, stride=2, padding=0, dilation=1, ceil_mode=False)\n",
            ")\n",
            "torch.Size([3, 8, 9, 9, 14])\n",
            "MyNetwork(\n",
            "  (conv): Conv2d(3, 8, kernel_size=(3, 3), stride=(1, 1))\n",
            "  (act): ELU(alpha=1.0, inplace=True)\n",
            "  (pool): MaxPool2d(kernel_size=2, stride=2, padding=0, dilation=1, ceil_mode=False)\n",
            ")\n",
            "torch.Size([3, 8, 11, 11])\n",
            "MyNetwork(\n",
            "  (conv): Conv3d(4, 8, kernel_size=(3, 3, 1), stride=(1, 1, 1))\n",
            "  (act): Sigmoid()\n",
            "  (pool): MaxPool3d(kernel_size=2, stride=2, padding=0, dilation=1, ceil_mode=False)\n",
            ")\n",
            "torch.Size([3, 8, 14, 14, 2])\n"
          ]
        }
      ],
      "source": [
        "# default network instance\n",
        "default_net = MyNetwork()\n",
        "print(default_net)\n",
        "print(default_net(torch.ones(3, 1, 20, 20, 30)).shape)\n",
        "\n",
        "# 2D network instance\n",
        "elu_net = MyNetwork(dims=2, in_channels=3, act=(\"elu\", {\"inplace\": True}))\n",
        "print(elu_net)\n",
        "print(elu_net(torch.ones(3, 3, 24, 24)).shape)\n",
        "\n",
        "# 3D network instance with anisotropic kernels\n",
        "sigmoid_net = MyNetwork(3, in_channels=4, kernel_size=(3, 3, 1), act=\"sigmoid\")\n",
        "print(sigmoid_net)\n",
        "print(sigmoid_net(torch.ones(3, 4, 30, 30, 5)).shape)"
      ]
    },
    {
      "cell_type": "markdown",
      "id": "million-adobe",
      "metadata": {
        "id": "million-adobe"
      },
      "source": [
        "### MONAI Networks\n",
        "\n",
        "MONAI provides over 20 Networks including:\n",
        "- UNet\n",
        "- VNet\n",
        "- AHNet\n",
        "- VGG-like regressor, classifier, discriminator, critic\n",
        "- HighResNet\n",
        "- SENet\n",
        "- UNETR"
      ]
    },
    {
      "cell_type": "markdown",
      "id": "institutional-architecture",
      "metadata": {
        "id": "institutional-architecture"
      },
      "source": [
        "### Example UNets\n",
        "\n",
        "We'll define a 2D UNet network with 2 hidden layers having outputs with 8, 16, and 32 channels, and a bottom (bottleneck) layer producing outputs with 32 channels.  The stride values state the stride for the initial convolution, ie. downsampling in down path and upsampling in up path and it'll transpose the convolutions used to implement upsampling.\n"
      ]
    },
    {
      "cell_type": "code",
      "execution_count": 35,
      "id": "former-morocco",
      "metadata": {
        "id": "former-morocco"
      },
      "outputs": [],
      "source": [
        "net = monai.networks.nets.UNet(\n",
        "    spatial_dims=2,  # 2 or 3 for a 2D or 3D network\n",
        "    in_channels=1,  # number of input channels\n",
        "    out_channels=1,  # number of output channels\n",
        "    channels=[8, 16, 32],  # channel counts for layers\n",
        "    strides=[2, 2]  # strides for mid layers\n",
        ")"
      ]
    },
    {
      "cell_type": "markdown",
      "id": "disciplinary-wedding",
      "metadata": {
        "id": "disciplinary-wedding"
      },
      "source": [
        "## Summary\n",
        "\n",
        "We've covered MONAI Transforms, Datasets, Caching and Networks.  Some key highlights are:\n",
        "\n",
        "- There is a long list of medical specific transforms available in MONAI\n",
        "- There are array and dictionary versions of transforms.\n",
        "- You can create a simple callable lambda function or create a class based on transform to create your own custom tranform\n",
        "- You can create a MONAI dataset and directly pass a compose tranform chain to it\n",
        "- A MONAI Dataset is a generic dataset with a len property, getitem property, and an optional callable data transform when fetching a data sample.\n"
      ]
    },
    {
      "cell_type": "markdown",
      "id": "5ba2d4b5",
      "metadata": {
        "id": "5ba2d4b5"
      },
      "source": [
        "## Summary\n",
        "- You can use dataset caching to store dataset transforms to speed up training.  Some included Caching options are CachingDataset, PersistentCaching, and SmartCaching\n",
        "- MONAI provides access to some commonly used medical imaging datasets including the DecathlonDataset\n",
        "- Understanding the basic MONAI Layers, Blocks, and Networks\n",
        "- Use MONAI layers to implement a flexible network and instnaite a two UNet examples with different parameters"
      ]
    }
  ],
  "metadata": {
    "celltoolbar": "Slideshow",
    "kernelspec": {
      "display_name": "Python 3",
      "name": "python3"
    },
    "language_info": {
      "codemirror_mode": {
        "name": "ipython",
        "version": 3
      },
      "file_extension": ".py",
      "mimetype": "text/x-python",
      "name": "python",
      "nbconvert_exporter": "python",
      "pygments_lexer": "ipython3",
      "version": "3.9.16"
    },
    "rise": {
      "header": "<img style='width: 100%; height: 100%;' src='https://raw.githubusercontent.com/Project-MONAI/project-monai.github.io/master/assets/logo/MONAI-logo_color.svg'>",
      "scroll": true,
      "theme": "white"
    },
    "colab": {
      "provenance": []
    }
  },
  "nbformat": 4,
  "nbformat_minor": 5
}